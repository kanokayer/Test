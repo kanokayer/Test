{
 "cells": [
  {
   "cell_type": "code",
   "execution_count": 1,
   "metadata": {
    "collapsed": true,
    "deletable": true,
    "editable": true
   },
   "outputs": [],
   "source": [
    "import pandas as pd\n",
    "import numpy as np\n",
    "import dill"
   ]
  },
  {
   "cell_type": "code",
   "execution_count": 2,
   "metadata": {
    "collapsed": true,
    "deletable": true,
    "editable": true
   },
   "outputs": [],
   "source": [
    "datatotals = pd.read_csv(\"Totals.csv\")"
   ]
  },
  {
   "cell_type": "code",
   "execution_count": 3,
   "metadata": {
    "collapsed": false,
    "deletable": true,
    "editable": true
   },
   "outputs": [],
   "source": [
    "datawildlife = pd.read_csv(\"WildlifeTotals.csv\")"
   ]
  },
  {
   "cell_type": "code",
   "execution_count": 4,
   "metadata": {
    "collapsed": true,
    "deletable": true,
    "editable": true
   },
   "outputs": [],
   "source": [
    "datainsects = pd.read_csv(\"InsectsTotals.csv\")"
   ]
  },
  {
   "cell_type": "code",
   "execution_count": 5,
   "metadata": {
    "collapsed": true,
    "deletable": true,
    "editable": true
   },
   "outputs": [],
   "source": [
    "dataplants = pd.read_csv(\"PlantsTotals.csv\")"
   ]
  },
  {
   "cell_type": "code",
   "execution_count": 6,
   "metadata": {
    "collapsed": true,
    "deletable": true,
    "editable": true
   },
   "outputs": [],
   "source": [
    "dataflight = pd.read_csv(\"./Noel/IntFlightData.csv\")"
   ]
  },
  {
   "cell_type": "code",
   "execution_count": 7,
   "metadata": {
    "collapsed": false,
    "deletable": true,
    "editable": true
   },
   "outputs": [],
   "source": [
    "dataflight['County'] = dataflight['DEST_CITY_NAME'].str.rpartition(',')[0].str.replace(\",\", \" \")"
   ]
  },
  {
   "cell_type": "code",
   "execution_count": 8,
   "metadata": {
    "collapsed": true,
    "deletable": true,
    "editable": true
   },
   "outputs": [],
   "source": [
    "dataflight['State'] = dataflight['DEST_CITY_NAME'].str.rpartition(',')[2]"
   ]
  },
  {
   "cell_type": "code",
   "execution_count": 9,
   "metadata": {
    "collapsed": true,
    "deletable": true,
    "editable": true
   },
   "outputs": [],
   "source": [
    "dataflight1 = dataflight[dataflight['State'].str.contains(\"FL\")]"
   ]
  },
  {
   "cell_type": "code",
   "execution_count": 10,
   "metadata": {
    "collapsed": true,
    "deletable": true,
    "editable": true
   },
   "outputs": [],
   "source": [
    "dataflight2 = dataflight1.replace({'West Palm Beach/Palm Beach': 'PalmBeach', 'Tampa': 'Hillsborough', 'Sanford': 'Seminole', 'St. Petersburg': 'Pinellas', 'St. Augustine': 'StJohns', 'Sarasota/Bradenton': 'Sarasota', 'Pensacola': 'Escambia', 'Panama City': 'Bay', 'Fort Lauderdale': 'Broward', 'Daytona Beach': 'Volusia', 'Cocoa Beach': 'Brevard', 'Fort Pierce': 'StLucie', 'Naples': 'Collier','Fort Myers': 'Lee', 'Jacksonville': 'Duval', 'Miami': 'MiamiDade', 'Orlando': 'Orange'}, regex=True)\n"
   ]
  },
  {
   "cell_type": "code",
   "execution_count": 11,
   "metadata": {
    "collapsed": true,
    "deletable": true,
    "editable": true
   },
   "outputs": [],
   "source": [
    "dataflight3 = dataflight2.groupby('County', as_index=False)['PASSENGERS'].sum()"
   ]
  },
  {
   "cell_type": "code",
   "execution_count": 12,
   "metadata": {
    "collapsed": true,
    "deletable": true,
    "editable": true
   },
   "outputs": [],
   "source": [
    "dataflight4 = dataflight2.groupby('County', as_index=False)['FREIGHT'].sum()"
   ]
  },
  {
   "cell_type": "code",
   "execution_count": 13,
   "metadata": {
    "collapsed": false,
    "deletable": true,
    "editable": true
   },
   "outputs": [],
   "source": [
    "tourtrade = pd.merge(pd.merge(datatotals,dataflight3,on='County'),dataflight4,on='County')"
   ]
  },
  {
   "cell_type": "code",
   "execution_count": 14,
   "metadata": {
    "collapsed": false,
    "deletable": true,
    "editable": true
   },
   "outputs": [],
   "source": [
    "tourtrade['FLIGHTS'] = tourtrade['FREIGHT'] + tourtrade['PASSENGERS']\n"
   ]
  },
  {
   "cell_type": "code",
   "execution_count": 15,
   "metadata": {
    "collapsed": false,
    "deletable": true,
    "editable": true
   },
   "outputs": [],
   "source": [
    "invasives = pd.merge(pd.merge(datawildlife,dataplants,on='County'),datainsects,on='County')"
   ]
  },
  {
   "cell_type": "code",
   "execution_count": 16,
   "metadata": {
    "collapsed": true,
    "deletable": true,
    "editable": true
   },
   "outputs": [],
   "source": [
    "dataanimals = pd.read_csv(\"WildlifeDec.csv\")"
   ]
  },
  {
   "cell_type": "code",
   "execution_count": 17,
   "metadata": {
    "collapsed": true,
    "deletable": true,
    "editable": true
   },
   "outputs": [],
   "source": [
    "dataleaf = pd.read_csv(\"PlantsDec.csv\")"
   ]
  },
  {
   "cell_type": "code",
   "execution_count": 18,
   "metadata": {
    "collapsed": true,
    "deletable": true,
    "editable": true
   },
   "outputs": [],
   "source": [
    "databeetle = pd.read_csv(\"InsectsDec.csv\")"
   ]
  },
  {
   "cell_type": "code",
   "execution_count": 19,
   "metadata": {
    "collapsed": false,
    "deletable": true,
    "editable": true
   },
   "outputs": [],
   "source": [
    "databeetle['Countcol'] = 1"
   ]
  },
  {
   "cell_type": "code",
   "execution_count": 20,
   "metadata": {
    "collapsed": true,
    "deletable": true,
    "editable": true
   },
   "outputs": [],
   "source": [
    "dataleaf['Countcol'] = 1"
   ]
  },
  {
   "cell_type": "code",
   "execution_count": 21,
   "metadata": {
    "collapsed": true,
    "deletable": true,
    "editable": true
   },
   "outputs": [],
   "source": [
    "dataanimals['Countcol'] = 1"
   ]
  },
  {
   "cell_type": "code",
   "execution_count": 22,
   "metadata": {
    "collapsed": true,
    "deletable": true,
    "editable": true
   },
   "outputs": [],
   "source": [
    "databeetle.index = databeetle.index.map(str) "
   ]
  },
  {
   "cell_type": "code",
   "execution_count": 23,
   "metadata": {
    "collapsed": true,
    "deletable": true,
    "editable": true
   },
   "outputs": [],
   "source": [
    "dataleaf.index = dataleaf.index.map(str)"
   ]
  },
  {
   "cell_type": "code",
   "execution_count": 24,
   "metadata": {
    "collapsed": true,
    "deletable": true,
    "editable": true
   },
   "outputs": [],
   "source": [
    "dataanimals.index = dataanimals.index.map(str)"
   ]
  },
  {
   "cell_type": "code",
   "execution_count": 25,
   "metadata": {
    "collapsed": false,
    "deletable": true,
    "editable": true
   },
   "outputs": [],
   "source": [
    "databeetle1 = databeetle.groupby('Longitude', as_index=False)['Countcol'].count()"
   ]
  },
  {
   "cell_type": "code",
   "execution_count": 26,
   "metadata": {
    "collapsed": false,
    "deletable": true,
    "editable": true
   },
   "outputs": [],
   "source": [
    "dataleaf1 = dataleaf.groupby('Longitude', as_index=False)['Countcol'].count()"
   ]
  },
  {
   "cell_type": "code",
   "execution_count": 27,
   "metadata": {
    "collapsed": true,
    "deletable": true,
    "editable": true
   },
   "outputs": [],
   "source": [
    "dataanimals1 = dataanimals.groupby('Longitude', as_index=False)['Countcol'].count()"
   ]
  },
  {
   "cell_type": "code",
   "execution_count": 28,
   "metadata": {
    "collapsed": true,
    "deletable": true,
    "editable": true
   },
   "outputs": [],
   "source": [
    "longs = pd.merge(pd.merge(databeetle1,dataleaf1,on='Longitude'),dataanimals1,on='Longitude')"
   ]
  },
  {
   "cell_type": "code",
   "execution_count": 29,
   "metadata": {
    "collapsed": false,
    "deletable": true,
    "editable": true
   },
   "outputs": [],
   "source": [
    "tourtrade.to_csv('tourtrade')"
   ]
  },
  {
   "cell_type": "code",
   "execution_count": 30,
   "metadata": {
    "collapsed": true,
    "deletable": true,
    "editable": true
   },
   "outputs": [],
   "source": [
    "databeetle1.to_csv('databeetle1')"
   ]
  },
  {
   "cell_type": "code",
   "execution_count": 31,
   "metadata": {
    "collapsed": true,
    "deletable": true,
    "editable": true
   },
   "outputs": [],
   "source": [
    "dataanimals1.to_csv('dataanimals1')"
   ]
  },
  {
   "cell_type": "code",
   "execution_count": 32,
   "metadata": {
    "collapsed": true,
    "deletable": true,
    "editable": true
   },
   "outputs": [],
   "source": [
    "dataleaf1.to_csv('dataleaf1')"
   ]
  },
  {
   "cell_type": "code",
   "execution_count": 33,
   "metadata": {
    "collapsed": true,
    "deletable": true,
    "editable": true
   },
   "outputs": [],
   "source": [
    "from bokeh.plotting import figure, show\n",
    "from bokeh.io import output_notebook"
   ]
  },
  {
   "cell_type": "code",
   "execution_count": 35,
   "metadata": {
    "collapsed": false,
    "deletable": true,
    "editable": true
   },
   "outputs": [
    {
     "data": {
      "text/html": [
       "\n",
       "    <div class=\"bk-root\">\n",
       "        <a href=\"https://bokeh.pydata.org\" target=\"_blank\" class=\"bk-logo bk-logo-small bk-logo-notebook\"></a>\n",
       "        <span id=\"85f4872c-36da-401a-bdfb-aa9842eb7ef9\">Loading BokehJS ...</span>\n",
       "    </div>"
      ]
     },
     "metadata": {},
     "output_type": "display_data"
    },
    {
     "data": {
      "application/javascript": [
       "\n",
       "(function(root) {\n",
       "  function now() {\n",
       "    return new Date();\n",
       "  }\n",
       "\n",
       "  var force = true;\n",
       "\n",
       "  if (typeof (root._bokeh_onload_callbacks) === \"undefined\" || force === true) {\n",
       "    root._bokeh_onload_callbacks = [];\n",
       "    root._bokeh_is_loading = undefined;\n",
       "  }\n",
       "\n",
       "  var JS_MIME_TYPE = 'application/javascript';\n",
       "  var HTML_MIME_TYPE = 'text/html';\n",
       "  var EXEC_MIME_TYPE = 'application/vnd.bokehjs_exec.v0+json';\n",
       "  var CLASS_NAME = 'output_bokeh rendered_html';\n",
       "\n",
       "  /**\n",
       "   * Render data to the DOM node\n",
       "   */\n",
       "  function render(props, node) {\n",
       "    var script = document.createElement(\"script\");\n",
       "    node.appendChild(script);\n",
       "  }\n",
       "\n",
       "  /**\n",
       "   * Handle when an output is cleared or removed\n",
       "   */\n",
       "  function handleClearOutput(event, handle) {\n",
       "    var cell = handle.cell;\n",
       "\n",
       "    var id = cell.output_area._bokeh_element_id;\n",
       "    var server_id = cell.output_area._bokeh_server_id;\n",
       "    // Clean up Bokeh references\n",
       "    if (id !== undefined) {\n",
       "      Bokeh.index[id].model.document.clear();\n",
       "      delete Bokeh.index[id];\n",
       "    }\n",
       "\n",
       "    if (server_id !== undefined) {\n",
       "      // Clean up Bokeh references\n",
       "      var cmd = \"from bokeh.io import _state; print(_state.uuid_to_server['\" + server_id + \"'].get_sessions()[0].document.roots[0]._id)\";\n",
       "      cell.notebook.kernel.execute(cmd, {\n",
       "        iopub: {\n",
       "          output: function(msg) {\n",
       "            var element_id = msg.content.text.trim();\n",
       "            Bokeh.index[element_id].model.document.clear();\n",
       "            delete Bokeh.index[element_id];\n",
       "          }\n",
       "        }\n",
       "      });\n",
       "      // Destroy server and session\n",
       "      var cmd = \"from bokeh import io; io._destroy_server('\" + server_id + \"')\";\n",
       "      cell.notebook.kernel.execute(cmd);\n",
       "    }\n",
       "  }\n",
       "\n",
       "  /**\n",
       "   * Handle when a new output is added\n",
       "   */\n",
       "  function handleAddOutput(event, handle) {\n",
       "    var output_area = handle.output_area;\n",
       "    var output = handle.output;\n",
       "\n",
       "    // limit handleAddOutput to display_data with EXEC_MIME_TYPE content only\n",
       "    if ((output.output_type != \"display_data\") || (!output.data.hasOwnProperty(EXEC_MIME_TYPE))) {\n",
       "      return\n",
       "    }\n",
       "\n",
       "    var toinsert = output_area.element.find(`.${CLASS_NAME.split(' ')[0]}`);\n",
       "\n",
       "    if (output.metadata[EXEC_MIME_TYPE][\"id\"] !== undefined) {\n",
       "      toinsert[0].firstChild.textContent = output.data[JS_MIME_TYPE];\n",
       "      // store reference to embed id on output_area\n",
       "      output_area._bokeh_element_id = output.metadata[EXEC_MIME_TYPE][\"id\"];\n",
       "    }\n",
       "    if (output.metadata[EXEC_MIME_TYPE][\"server_id\"] !== undefined) {\n",
       "      var bk_div = document.createElement(\"div\");\n",
       "      bk_div.innerHTML = output.data[HTML_MIME_TYPE];\n",
       "      var script_attrs = bk_div.children[0].attributes;\n",
       "      for (var i = 0; i < script_attrs.length; i++) {\n",
       "        toinsert[0].firstChild.setAttribute(script_attrs[i].name, script_attrs[i].value);\n",
       "      }\n",
       "      // store reference to server id on output_area\n",
       "      output_area._bokeh_server_id = output.metadata[EXEC_MIME_TYPE][\"server_id\"];\n",
       "    }\n",
       "  }\n",
       "\n",
       "  function register_renderer(events, OutputArea) {\n",
       "\n",
       "    function append_mime(data, metadata, element) {\n",
       "      // create a DOM node to render to\n",
       "      var toinsert = this.create_output_subarea(\n",
       "        metadata,\n",
       "        CLASS_NAME,\n",
       "        EXEC_MIME_TYPE\n",
       "      );\n",
       "      this.keyboard_manager.register_events(toinsert);\n",
       "      // Render to node\n",
       "      var props = {data: data, metadata: metadata[EXEC_MIME_TYPE]};\n",
       "      render(props, toinsert[0]);\n",
       "      element.append(toinsert);\n",
       "      return toinsert\n",
       "    }\n",
       "\n",
       "    /* Handle when an output is cleared or removed */\n",
       "    events.on('clear_output.CodeCell', handleClearOutput);\n",
       "    events.on('delete.Cell', handleClearOutput);\n",
       "\n",
       "    /* Handle when a new output is added */\n",
       "    events.on('output_added.OutputArea', handleAddOutput);\n",
       "\n",
       "    /**\n",
       "     * Register the mime type and append_mime function with output_area\n",
       "     */\n",
       "    OutputArea.prototype.register_mime_type(EXEC_MIME_TYPE, append_mime, {\n",
       "      /* Is output safe? */\n",
       "      safe: true,\n",
       "      /* Index of renderer in `output_area.display_order` */\n",
       "      index: 0\n",
       "    });\n",
       "  }\n",
       "\n",
       "  // register the mime type if in Jupyter Notebook environment and previously unregistered\n",
       "  if (root.Jupyter !== undefined) {\n",
       "    var events = require('base/js/events');\n",
       "    var OutputArea = require('notebook/js/outputarea').OutputArea;\n",
       "\n",
       "    if (OutputArea.prototype.mime_types().indexOf(EXEC_MIME_TYPE) == -1) {\n",
       "      register_renderer(events, OutputArea);\n",
       "    }\n",
       "  }\n",
       "\n",
       "  \n",
       "  if (typeof (root._bokeh_timeout) === \"undefined\" || force === true) {\n",
       "    root._bokeh_timeout = Date.now() + 5000;\n",
       "    root._bokeh_failed_load = false;\n",
       "  }\n",
       "\n",
       "  var NB_LOAD_WARNING = {'data': {'text/html':\n",
       "     \"<div style='background-color: #fdd'>\\n\"+\n",
       "     \"<p>\\n\"+\n",
       "     \"BokehJS does not appear to have successfully loaded. If loading BokehJS from CDN, this \\n\"+\n",
       "     \"may be due to a slow or bad network connection. Possible fixes:\\n\"+\n",
       "     \"</p>\\n\"+\n",
       "     \"<ul>\\n\"+\n",
       "     \"<li>re-rerun `output_notebook()` to attempt to load from CDN again, or</li>\\n\"+\n",
       "     \"<li>use INLINE resources instead, as so:</li>\\n\"+\n",
       "     \"</ul>\\n\"+\n",
       "     \"<code>\\n\"+\n",
       "     \"from bokeh.resources import INLINE\\n\"+\n",
       "     \"output_notebook(resources=INLINE)\\n\"+\n",
       "     \"</code>\\n\"+\n",
       "     \"</div>\"}};\n",
       "\n",
       "  function display_loaded() {\n",
       "    var el = document.getElementById(\"85f4872c-36da-401a-bdfb-aa9842eb7ef9\");\n",
       "    if (el != null) {\n",
       "      el.textContent = \"BokehJS is loading...\";\n",
       "    }\n",
       "    if (root.Bokeh !== undefined) {\n",
       "      if (el != null) {\n",
       "        el.textContent = \"BokehJS \" + root.Bokeh.version + \" successfully loaded.\";\n",
       "      }\n",
       "    } else if (Date.now() < root._bokeh_timeout) {\n",
       "      setTimeout(display_loaded, 100)\n",
       "    }\n",
       "  }\n",
       "\n",
       "\n",
       "  function run_callbacks() {\n",
       "    try {\n",
       "      root._bokeh_onload_callbacks.forEach(function(callback) { callback() });\n",
       "    }\n",
       "    finally {\n",
       "      delete root._bokeh_onload_callbacks\n",
       "    }\n",
       "    console.info(\"Bokeh: all callbacks have finished\");\n",
       "  }\n",
       "\n",
       "  function load_libs(js_urls, callback) {\n",
       "    root._bokeh_onload_callbacks.push(callback);\n",
       "    if (root._bokeh_is_loading > 0) {\n",
       "      console.log(\"Bokeh: BokehJS is being loaded, scheduling callback at\", now());\n",
       "      return null;\n",
       "    }\n",
       "    if (js_urls == null || js_urls.length === 0) {\n",
       "      run_callbacks();\n",
       "      return null;\n",
       "    }\n",
       "    console.log(\"Bokeh: BokehJS not loaded, scheduling load and callback at\", now());\n",
       "    root._bokeh_is_loading = js_urls.length;\n",
       "    for (var i = 0; i < js_urls.length; i++) {\n",
       "      var url = js_urls[i];\n",
       "      var s = document.createElement('script');\n",
       "      s.src = url;\n",
       "      s.async = false;\n",
       "      s.onreadystatechange = s.onload = function() {\n",
       "        root._bokeh_is_loading--;\n",
       "        if (root._bokeh_is_loading === 0) {\n",
       "          console.log(\"Bokeh: all BokehJS libraries loaded\");\n",
       "          run_callbacks()\n",
       "        }\n",
       "      };\n",
       "      s.onerror = function() {\n",
       "        console.warn(\"failed to load library \" + url);\n",
       "      };\n",
       "      console.log(\"Bokeh: injecting script tag for BokehJS library: \", url);\n",
       "      document.getElementsByTagName(\"head\")[0].appendChild(s);\n",
       "    }\n",
       "  };var element = document.getElementById(\"85f4872c-36da-401a-bdfb-aa9842eb7ef9\");\n",
       "  if (element == null) {\n",
       "    console.log(\"Bokeh: ERROR: autoload.js configured with elementid '85f4872c-36da-401a-bdfb-aa9842eb7ef9' but no matching script tag was found. \")\n",
       "    return false;\n",
       "  }\n",
       "\n",
       "  var js_urls = [\"https://cdn.pydata.org/bokeh/release/bokeh-0.12.9.min.js\", \"https://cdn.pydata.org/bokeh/release/bokeh-widgets-0.12.9.min.js\", \"https://cdn.pydata.org/bokeh/release/bokeh-tables-0.12.9.min.js\", \"https://cdn.pydata.org/bokeh/release/bokeh-gl-0.12.9.min.js\"];\n",
       "\n",
       "  var inline_js = [\n",
       "    function(Bokeh) {\n",
       "      Bokeh.set_log_level(\"info\");\n",
       "    },\n",
       "    \n",
       "    function(Bokeh) {\n",
       "      \n",
       "    },\n",
       "    function(Bokeh) {\n",
       "      console.log(\"Bokeh: injecting CSS: https://cdn.pydata.org/bokeh/release/bokeh-0.12.9.min.css\");\n",
       "      Bokeh.embed.inject_css(\"https://cdn.pydata.org/bokeh/release/bokeh-0.12.9.min.css\");\n",
       "      console.log(\"Bokeh: injecting CSS: https://cdn.pydata.org/bokeh/release/bokeh-widgets-0.12.9.min.css\");\n",
       "      Bokeh.embed.inject_css(\"https://cdn.pydata.org/bokeh/release/bokeh-widgets-0.12.9.min.css\");\n",
       "      console.log(\"Bokeh: injecting CSS: https://cdn.pydata.org/bokeh/release/bokeh-tables-0.12.9.min.css\");\n",
       "      Bokeh.embed.inject_css(\"https://cdn.pydata.org/bokeh/release/bokeh-tables-0.12.9.min.css\");\n",
       "    }\n",
       "  ];\n",
       "\n",
       "  function run_inline_js() {\n",
       "    \n",
       "    if ((root.Bokeh !== undefined) || (force === true)) {\n",
       "      for (var i = 0; i < inline_js.length; i++) {\n",
       "        inline_js[i].call(root, root.Bokeh);\n",
       "      }if (force === true) {\n",
       "        display_loaded();\n",
       "      }} else if (Date.now() < root._bokeh_timeout) {\n",
       "      setTimeout(run_inline_js, 100);\n",
       "    } else if (!root._bokeh_failed_load) {\n",
       "      console.log(\"Bokeh: BokehJS failed to load within specified timeout.\");\n",
       "      root._bokeh_failed_load = true;\n",
       "    } else if (force !== true) {\n",
       "      var cell = $(document.getElementById(\"85f4872c-36da-401a-bdfb-aa9842eb7ef9\")).parents('.cell').data().cell;\n",
       "      cell.output_area.append_execute_result(NB_LOAD_WARNING)\n",
       "    }\n",
       "\n",
       "  }\n",
       "\n",
       "  if (root._bokeh_is_loading === 0) {\n",
       "    console.log(\"Bokeh: BokehJS loaded, going straight to plotting\");\n",
       "    run_inline_js();\n",
       "  } else {\n",
       "    load_libs(js_urls, function() {\n",
       "      console.log(\"Bokeh: BokehJS plotting callback run at\", now());\n",
       "      run_inline_js();\n",
       "    });\n",
       "  }\n",
       "}(window));"
      ],
      "application/vnd.bokehjs_load.v0+json": "\n(function(root) {\n  function now() {\n    return new Date();\n  }\n\n  var force = true;\n\n  if (typeof (root._bokeh_onload_callbacks) === \"undefined\" || force === true) {\n    root._bokeh_onload_callbacks = [];\n    root._bokeh_is_loading = undefined;\n  }\n\n  \n\n  \n  if (typeof (root._bokeh_timeout) === \"undefined\" || force === true) {\n    root._bokeh_timeout = Date.now() + 5000;\n    root._bokeh_failed_load = false;\n  }\n\n  var NB_LOAD_WARNING = {'data': {'text/html':\n     \"<div style='background-color: #fdd'>\\n\"+\n     \"<p>\\n\"+\n     \"BokehJS does not appear to have successfully loaded. If loading BokehJS from CDN, this \\n\"+\n     \"may be due to a slow or bad network connection. Possible fixes:\\n\"+\n     \"</p>\\n\"+\n     \"<ul>\\n\"+\n     \"<li>re-rerun `output_notebook()` to attempt to load from CDN again, or</li>\\n\"+\n     \"<li>use INLINE resources instead, as so:</li>\\n\"+\n     \"</ul>\\n\"+\n     \"<code>\\n\"+\n     \"from bokeh.resources import INLINE\\n\"+\n     \"output_notebook(resources=INLINE)\\n\"+\n     \"</code>\\n\"+\n     \"</div>\"}};\n\n  function display_loaded() {\n    var el = document.getElementById(\"85f4872c-36da-401a-bdfb-aa9842eb7ef9\");\n    if (el != null) {\n      el.textContent = \"BokehJS is loading...\";\n    }\n    if (root.Bokeh !== undefined) {\n      if (el != null) {\n        el.textContent = \"BokehJS \" + root.Bokeh.version + \" successfully loaded.\";\n      }\n    } else if (Date.now() < root._bokeh_timeout) {\n      setTimeout(display_loaded, 100)\n    }\n  }\n\n\n  function run_callbacks() {\n    try {\n      root._bokeh_onload_callbacks.forEach(function(callback) { callback() });\n    }\n    finally {\n      delete root._bokeh_onload_callbacks\n    }\n    console.info(\"Bokeh: all callbacks have finished\");\n  }\n\n  function load_libs(js_urls, callback) {\n    root._bokeh_onload_callbacks.push(callback);\n    if (root._bokeh_is_loading > 0) {\n      console.log(\"Bokeh: BokehJS is being loaded, scheduling callback at\", now());\n      return null;\n    }\n    if (js_urls == null || js_urls.length === 0) {\n      run_callbacks();\n      return null;\n    }\n    console.log(\"Bokeh: BokehJS not loaded, scheduling load and callback at\", now());\n    root._bokeh_is_loading = js_urls.length;\n    for (var i = 0; i < js_urls.length; i++) {\n      var url = js_urls[i];\n      var s = document.createElement('script');\n      s.src = url;\n      s.async = false;\n      s.onreadystatechange = s.onload = function() {\n        root._bokeh_is_loading--;\n        if (root._bokeh_is_loading === 0) {\n          console.log(\"Bokeh: all BokehJS libraries loaded\");\n          run_callbacks()\n        }\n      };\n      s.onerror = function() {\n        console.warn(\"failed to load library \" + url);\n      };\n      console.log(\"Bokeh: injecting script tag for BokehJS library: \", url);\n      document.getElementsByTagName(\"head\")[0].appendChild(s);\n    }\n  };var element = document.getElementById(\"85f4872c-36da-401a-bdfb-aa9842eb7ef9\");\n  if (element == null) {\n    console.log(\"Bokeh: ERROR: autoload.js configured with elementid '85f4872c-36da-401a-bdfb-aa9842eb7ef9' but no matching script tag was found. \")\n    return false;\n  }\n\n  var js_urls = [\"https://cdn.pydata.org/bokeh/release/bokeh-0.12.9.min.js\", \"https://cdn.pydata.org/bokeh/release/bokeh-widgets-0.12.9.min.js\", \"https://cdn.pydata.org/bokeh/release/bokeh-tables-0.12.9.min.js\", \"https://cdn.pydata.org/bokeh/release/bokeh-gl-0.12.9.min.js\"];\n\n  var inline_js = [\n    function(Bokeh) {\n      Bokeh.set_log_level(\"info\");\n    },\n    \n    function(Bokeh) {\n      \n    },\n    function(Bokeh) {\n      console.log(\"Bokeh: injecting CSS: https://cdn.pydata.org/bokeh/release/bokeh-0.12.9.min.css\");\n      Bokeh.embed.inject_css(\"https://cdn.pydata.org/bokeh/release/bokeh-0.12.9.min.css\");\n      console.log(\"Bokeh: injecting CSS: https://cdn.pydata.org/bokeh/release/bokeh-widgets-0.12.9.min.css\");\n      Bokeh.embed.inject_css(\"https://cdn.pydata.org/bokeh/release/bokeh-widgets-0.12.9.min.css\");\n      console.log(\"Bokeh: injecting CSS: https://cdn.pydata.org/bokeh/release/bokeh-tables-0.12.9.min.css\");\n      Bokeh.embed.inject_css(\"https://cdn.pydata.org/bokeh/release/bokeh-tables-0.12.9.min.css\");\n    }\n  ];\n\n  function run_inline_js() {\n    \n    if ((root.Bokeh !== undefined) || (force === true)) {\n      for (var i = 0; i < inline_js.length; i++) {\n        inline_js[i].call(root, root.Bokeh);\n      }if (force === true) {\n        display_loaded();\n      }} else if (Date.now() < root._bokeh_timeout) {\n      setTimeout(run_inline_js, 100);\n    } else if (!root._bokeh_failed_load) {\n      console.log(\"Bokeh: BokehJS failed to load within specified timeout.\");\n      root._bokeh_failed_load = true;\n    } else if (force !== true) {\n      var cell = $(document.getElementById(\"85f4872c-36da-401a-bdfb-aa9842eb7ef9\")).parents('.cell').data().cell;\n      cell.output_area.append_execute_result(NB_LOAD_WARNING)\n    }\n\n  }\n\n  if (root._bokeh_is_loading === 0) {\n    console.log(\"Bokeh: BokehJS loaded, going straight to plotting\");\n    run_inline_js();\n  } else {\n    load_libs(js_urls, function() {\n      console.log(\"Bokeh: BokehJS plotting callback run at\", now());\n      run_inline_js();\n    });\n  }\n}(window));"
     },
     "metadata": {},
     "output_type": "display_data"
    },
    {
     "data": {
      "text/html": [
       "\n",
       "<div class=\"bk-root\">\n",
       "    <div class=\"bk-plotdiv\" id=\"e08ae6f2-6ed9-4338-b77b-d025ff706269\"></div>\n",
       "</div>"
      ]
     },
     "metadata": {},
     "output_type": "display_data"
    },
    {
     "data": {
      "application/javascript": [
       "(function(root) {\n",
       "  function embed_document(root) {\n",
       "    var docs_json = {\"cd509d55-4c37-4197-9dd4-d96c292597b8\":{\"roots\":{\"references\":[{\"attributes\":{\"fill_alpha\":{\"value\":0.5},\"fill_color\":{\"value\":\"green\"},\"line_alpha\":{\"value\":0.5},\"line_color\":{\"value\":\"green\"},\"size\":{\"units\":\"screen\",\"value\":12},\"x\":{\"field\":\"x\"},\"y\":{\"field\":\"y\"}},\"id\":\"ccd915a3-a999-4073-b929-77f72b5393ec\",\"type\":\"Circle\"},{\"attributes\":{\"callback\":null},\"id\":\"30b27d6c-c371-4c81-ac89-917c30dee433\",\"type\":\"DataRange1d\"},{\"attributes\":{\"overlay\":{\"id\":\"a46e0689-24f7-4343-9b73-1269e3df108b\",\"type\":\"BoxAnnotation\"}},\"id\":\"5e86d836-8478-4d9b-b58a-f1a711192ef4\",\"type\":\"BoxZoomTool\"},{\"attributes\":{\"fill_alpha\":{\"value\":0.5},\"fill_color\":{\"value\":\"red\"},\"line_alpha\":{\"value\":0.5},\"line_color\":{\"value\":\"red\"},\"size\":{\"units\":\"screen\",\"value\":12},\"x\":{\"field\":\"x\"},\"y\":{\"field\":\"y\"}},\"id\":\"a1170964-a9da-46a2-a6cf-9bd9ec838100\",\"type\":\"Circle\"},{\"attributes\":{},\"id\":\"c34f42aa-f850-43da-b694-089a84c6becd\",\"type\":\"BasicTickFormatter\"},{\"attributes\":{\"callback\":null},\"id\":\"3e793cf9-2e66-4a3c-9559-9d4c5f56bf21\",\"type\":\"DataRange1d\"},{\"attributes\":{\"callback\":null,\"column_names\":[\"y\",\"x\"],\"data\":{\"x\":{\"__ndarray__\":\"AAAAAADgVcCamZmZmdlVwDMzMzMz01XAzczMzMzMVcBmZmZmZsZVwAAAAAAAwFXAmpmZmZm5VcAzMzMzM7NVwM3MzMzMrFXAZmZmZmamVcAAAAAAAKBVwJqZmZmZmVXAMzMzMzOTVcDNzMzMzIxVwGZmZmZmhlXAAAAAAACAVcCamZmZmXlVwM3MzMzMbFXAZmZmZmZmVcCamZmZmVlVwM3MzMzMTFXAAAAAAABAVcCamZmZmTlVwDMzMzMzM1XAzczMzMwsVcBmZmZmZiZVwAAAAAAAIFXAmpmZmZkZVcAzMzMzMxNVwM3MzMzMDFXAZmZmZmYGVcAAAAAAAABVwJqZmZmZ+VTAzczMzMzMVMBmZmZmZsZUwAAAAAAAwFTAmpmZmZm5VMAzMzMzM7NUwM3MzMzMrFTAZmZmZmamVMAAAAAAAKBUwJqZmZmZmVTAMzMzMzOTVMDNzMzMzIxUwGZmZmZmhlTAAAAAAACAVMCamZmZmXlUwDMzMzMzc1TAzczMzMxsVMBmZmZmZmZUwAAAAAAAYFTAmpmZmZlZVMAzMzMzM1NUwM3MzMzMTFTAZmZmZmZGVMAAAAAAAEBUwJqZmZmZOVTAMzMzMzMzVMDNzMzMzCxUwGZmZmZmJlTAAAAAAAAgVMCamZmZmRlUwDMzMzMzE1TAzczMzMwMVMBmZmZmZgZUwAAAAAAAAFTA\",\"dtype\":\"float64\",\"shape\":[66]},\"y\":[5,110,22,7,8,1215,1836,2030,524,147,2,6,21,20,4,8,15,17,8,14,104,37,237,196,216,48,12,28,145,17,22,11,3,9,19,24,36,215,262,561,574,618,1670,1056,1435,613,217,424,75,422,2886,5377,2763,928,1269,1130,176,217,140,406,177,163,623,1000,966,72]}},\"id\":\"48f8db22-aca7-4e76-a4a2-08901e3d782e\",\"type\":\"ColumnDataSource\"},{\"attributes\":{},\"id\":\"f923ab56-b035-4955-984e-10cced91efee\",\"type\":\"BasicTicker\"},{\"attributes\":{\"callback\":null,\"column_names\":[\"y\",\"x\"],\"data\":{\"x\":{\"__ndarray__\":\"mpmZmZnZVcAzMzMzM9NVwM3MzMzMzFXAZmZmZmbGVcAAAAAAAMBVwJqZmZmZuVXAMzMzMzOzVcDNzMzMzKxVwGZmZmZmplXAAAAAAACgVcDNzMzMzIxVwGZmZmZmhlXAzczMzMxsVcBmZmZmZmZVwAAAAAAAYFXAmpmZmZlZVcAzMzMzM1NVwM3MzMzMTFXAmpmZmZk5VcBmZmZmZiZVwAAAAAAAIFXAmpmZmZkZVcAzMzMzMxNVwAAAAAAAAFXAMzMzMzPzVMDNzMzMzOxUwGZmZmZm5lTAmpmZmZm5VMAzMzMzM7NUwM3MzMzMrFTAZmZmZmamVMAAAAAAAKBUwJqZmZmZmVTAMzMzMzOTVMDNzMzMzIxUwGZmZmZmhlTAAAAAAACAVMCamZmZmXlUwDMzMzMzc1TAzczMzMxsVMBmZmZmZmZUwAAAAAAAYFTAmpmZmZlZVMAzMzMzM1NUwM3MzMzMTFTAZmZmZmZGVMAAAAAAAEBUwJqZmZmZOVTAMzMzMzMzVMDNzMzMzCxUwGZmZmZmJlTAAAAAAAAgVMCamZmZmRlUwDMzMzMzE1TAzczMzMwMVMBmZmZmZgZUwAAAAAAAAFTA\",\"dtype\":\"float64\",\"shape\":[57]},\"y\":[1,2,3,1,1,2,9,1,4,2,1,1,2,2,2,2,1,1,1,1,3,1,5,1,1,1,1,5,35,46,52,91,61,81,61,76,149,166,126,143,103,126,48,69,20,17,9,104,158,47,520,1472,550,368,358,186,14]}},\"id\":\"8b2c3289-a2d2-436b-af0f-e543dabde3ca\",\"type\":\"ColumnDataSource\"},{\"attributes\":{},\"id\":\"e95773e3-cd0a-47b1-91bc-c44b576188c5\",\"type\":\"SaveTool\"},{\"attributes\":{},\"id\":\"46ff9252-43c5-435a-8219-08bbcb832507\",\"type\":\"LinearScale\"},{\"attributes\":{\"data_source\":{\"id\":\"48f8db22-aca7-4e76-a4a2-08901e3d782e\",\"type\":\"ColumnDataSource\"},\"glyph\":{\"id\":\"a1170964-a9da-46a2-a6cf-9bd9ec838100\",\"type\":\"Circle\"},\"hover_glyph\":null,\"muted_glyph\":null,\"nonselection_glyph\":{\"id\":\"16130907-89b8-4d5d-827a-de7d112c1d78\",\"type\":\"Circle\"},\"selection_glyph\":null,\"view\":{\"id\":\"451d5473-63e6-49d7-ab53-d842c7a6e18d\",\"type\":\"CDSView\"}},\"id\":\"699cf4c4-2712-4244-8d08-7ba722c7c2e2\",\"type\":\"GlyphRenderer\"},{\"attributes\":{\"source\":{\"id\":\"8b2c3289-a2d2-436b-af0f-e543dabde3ca\",\"type\":\"ColumnDataSource\"}},\"id\":\"a035ba87-7cf9-457b-99d9-2ebf435b9dd2\",\"type\":\"CDSView\"},{\"attributes\":{\"below\":[{\"id\":\"260557db-8559-4292-9728-35307f8056b7\",\"type\":\"LinearAxis\"}],\"left\":[{\"id\":\"c4e94fea-e308-4244-b712-ea5e5ada02d6\",\"type\":\"LinearAxis\"}],\"plot_height\":800,\"plot_width\":800,\"renderers\":[{\"id\":\"260557db-8559-4292-9728-35307f8056b7\",\"type\":\"LinearAxis\"},{\"id\":\"a0cb2cc9-e494-4570-a0c6-b745031f9179\",\"type\":\"Grid\"},{\"id\":\"c4e94fea-e308-4244-b712-ea5e5ada02d6\",\"type\":\"LinearAxis\"},{\"id\":\"c6463a0e-21cc-4dbb-a02f-875e19463038\",\"type\":\"Grid\"},{\"id\":\"a46e0689-24f7-4343-9b73-1269e3df108b\",\"type\":\"BoxAnnotation\"},{\"id\":\"dc344893-e637-4284-9d53-b3c309bff6e8\",\"type\":\"GlyphRenderer\"},{\"id\":\"699cf4c4-2712-4244-8d08-7ba722c7c2e2\",\"type\":\"GlyphRenderer\"},{\"id\":\"4508f816-0520-43f9-855c-948f0c74e6de\",\"type\":\"GlyphRenderer\"}],\"title\":{\"id\":\"2d26aec4-3cb2-41a3-9cdd-53487cb07254\",\"type\":\"Title\"},\"toolbar\":{\"id\":\"4c1143d2-0f2f-40d4-a233-c2e8f079756e\",\"type\":\"Toolbar\"},\"x_range\":{\"id\":\"30b27d6c-c371-4c81-ac89-917c30dee433\",\"type\":\"DataRange1d\"},\"x_scale\":{\"id\":\"8ca6e8df-8128-41b9-99f6-7f0eea2702fd\",\"type\":\"LinearScale\"},\"y_range\":{\"id\":\"3e793cf9-2e66-4a3c-9559-9d4c5f56bf21\",\"type\":\"DataRange1d\"},\"y_scale\":{\"id\":\"46ff9252-43c5-435a-8219-08bbcb832507\",\"type\":\"LinearScale\"}},\"id\":\"8e1d12e9-f701-4e93-b36b-d80c4f1f8032\",\"subtype\":\"Figure\",\"type\":\"Plot\"},{\"attributes\":{\"fill_alpha\":{\"value\":0.1},\"fill_color\":{\"value\":\"#1f77b4\"},\"line_alpha\":{\"value\":0.1},\"line_color\":{\"value\":\"#1f77b4\"},\"size\":{\"units\":\"screen\",\"value\":12},\"x\":{\"field\":\"x\"},\"y\":{\"field\":\"y\"}},\"id\":\"989c7afd-0d07-4e40-9106-d6ed4624a3c0\",\"type\":\"Circle\"},{\"attributes\":{},\"id\":\"57fd43bd-01d9-4f0e-bb3d-dc46d3a23ab4\",\"type\":\"BasicTicker\"},{\"attributes\":{},\"id\":\"0cf1b46c-f95a-4112-a190-42ae7a22fc4b\",\"type\":\"HelpTool\"},{\"attributes\":{\"fill_alpha\":{\"value\":0.1},\"fill_color\":{\"value\":\"#1f77b4\"},\"line_alpha\":{\"value\":0.1},\"line_color\":{\"value\":\"#1f77b4\"},\"size\":{\"units\":\"screen\",\"value\":12},\"x\":{\"field\":\"x\"},\"y\":{\"field\":\"y\"}},\"id\":\"8a39a951-bcfc-4349-a077-cd64cf203881\",\"type\":\"Circle\"},{\"attributes\":{\"bottom_units\":\"screen\",\"fill_alpha\":{\"value\":0.5},\"fill_color\":{\"value\":\"lightgrey\"},\"left_units\":\"screen\",\"level\":\"overlay\",\"line_alpha\":{\"value\":1.0},\"line_color\":{\"value\":\"black\"},\"line_dash\":[4,4],\"line_width\":{\"value\":2},\"plot\":null,\"render_mode\":\"css\",\"right_units\":\"screen\",\"top_units\":\"screen\"},\"id\":\"a46e0689-24f7-4343-9b73-1269e3df108b\",\"type\":\"BoxAnnotation\"},{\"attributes\":{},\"id\":\"e17256d0-5256-4029-9af7-074e12f4a9df\",\"type\":\"WheelZoomTool\"},{\"attributes\":{},\"id\":\"2d79a8ff-c375-48a7-a135-c8aecd819416\",\"type\":\"ResetTool\"},{\"attributes\":{\"plot\":{\"id\":\"8e1d12e9-f701-4e93-b36b-d80c4f1f8032\",\"subtype\":\"Figure\",\"type\":\"Plot\"},\"ticker\":{\"id\":\"57fd43bd-01d9-4f0e-bb3d-dc46d3a23ab4\",\"type\":\"BasicTicker\"}},\"id\":\"a0cb2cc9-e494-4570-a0c6-b745031f9179\",\"type\":\"Grid\"},{\"attributes\":{\"active_drag\":\"auto\",\"active_inspect\":\"auto\",\"active_scroll\":\"auto\",\"active_tap\":\"auto\",\"tools\":[{\"id\":\"193f525d-557d-4aa8-9ca1-9c0b5c129c60\",\"type\":\"PanTool\"},{\"id\":\"e17256d0-5256-4029-9af7-074e12f4a9df\",\"type\":\"WheelZoomTool\"},{\"id\":\"5e86d836-8478-4d9b-b58a-f1a711192ef4\",\"type\":\"BoxZoomTool\"},{\"id\":\"e95773e3-cd0a-47b1-91bc-c44b576188c5\",\"type\":\"SaveTool\"},{\"id\":\"2d79a8ff-c375-48a7-a135-c8aecd819416\",\"type\":\"ResetTool\"},{\"id\":\"0cf1b46c-f95a-4112-a190-42ae7a22fc4b\",\"type\":\"HelpTool\"}]},\"id\":\"4c1143d2-0f2f-40d4-a233-c2e8f079756e\",\"type\":\"Toolbar\"},{\"attributes\":{\"fill_alpha\":{\"value\":0.5},\"fill_color\":{\"value\":\"navy\"},\"line_alpha\":{\"value\":0.5},\"line_color\":{\"value\":\"navy\"},\"size\":{\"units\":\"screen\",\"value\":12},\"x\":{\"field\":\"x\"},\"y\":{\"field\":\"y\"}},\"id\":\"97e41d00-cb81-407d-a46b-43c0614aa15a\",\"type\":\"Circle\"},{\"attributes\":{},\"id\":\"193f525d-557d-4aa8-9ca1-9c0b5c129c60\",\"type\":\"PanTool\"},{\"attributes\":{\"axis_label\":\"Longitude\",\"formatter\":{\"id\":\"15cb8a7d-7dce-4359-8093-7a339ca74416\",\"type\":\"BasicTickFormatter\"},\"plot\":{\"id\":\"8e1d12e9-f701-4e93-b36b-d80c4f1f8032\",\"subtype\":\"Figure\",\"type\":\"Plot\"},\"ticker\":{\"id\":\"57fd43bd-01d9-4f0e-bb3d-dc46d3a23ab4\",\"type\":\"BasicTicker\"}},\"id\":\"260557db-8559-4292-9728-35307f8056b7\",\"type\":\"LinearAxis\"},{\"attributes\":{\"dimension\":1,\"plot\":{\"id\":\"8e1d12e9-f701-4e93-b36b-d80c4f1f8032\",\"subtype\":\"Figure\",\"type\":\"Plot\"},\"ticker\":{\"id\":\"f923ab56-b035-4955-984e-10cced91efee\",\"type\":\"BasicTicker\"}},\"id\":\"c6463a0e-21cc-4dbb-a02f-875e19463038\",\"type\":\"Grid\"},{\"attributes\":{},\"id\":\"8ca6e8df-8128-41b9-99f6-7f0eea2702fd\",\"type\":\"LinearScale\"},{\"attributes\":{},\"id\":\"15cb8a7d-7dce-4359-8093-7a339ca74416\",\"type\":\"BasicTickFormatter\"},{\"attributes\":{\"data_source\":{\"id\":\"20a8c2f7-7cf6-4075-9900-4bde55038232\",\"type\":\"ColumnDataSource\"},\"glyph\":{\"id\":\"97e41d00-cb81-407d-a46b-43c0614aa15a\",\"type\":\"Circle\"},\"hover_glyph\":null,\"muted_glyph\":null,\"nonselection_glyph\":{\"id\":\"989c7afd-0d07-4e40-9106-d6ed4624a3c0\",\"type\":\"Circle\"},\"selection_glyph\":null,\"view\":{\"id\":\"5a9bbd66-2251-4ed2-949c-3d45f6ffb930\",\"type\":\"CDSView\"}},\"id\":\"dc344893-e637-4284-9d53-b3c309bff6e8\",\"type\":\"GlyphRenderer\"},{\"attributes\":{\"fill_alpha\":{\"value\":0.1},\"fill_color\":{\"value\":\"#1f77b4\"},\"line_alpha\":{\"value\":0.1},\"line_color\":{\"value\":\"#1f77b4\"},\"size\":{\"units\":\"screen\",\"value\":12},\"x\":{\"field\":\"x\"},\"y\":{\"field\":\"y\"}},\"id\":\"16130907-89b8-4d5d-827a-de7d112c1d78\",\"type\":\"Circle\"},{\"attributes\":{\"callback\":null,\"column_names\":[\"y\",\"x\"],\"data\":{\"x\":{\"__ndarray__\":\"mpmZmZn5VMCamZmZmVlUwDMzMzMzE1TA\",\"dtype\":\"float64\",\"shape\":[3]},\"y\":[1,1,1]}},\"id\":\"20a8c2f7-7cf6-4075-9900-4bde55038232\",\"type\":\"ColumnDataSource\"},{\"attributes\":{\"source\":{\"id\":\"48f8db22-aca7-4e76-a4a2-08901e3d782e\",\"type\":\"ColumnDataSource\"}},\"id\":\"451d5473-63e6-49d7-ab53-d842c7a6e18d\",\"type\":\"CDSView\"},{\"attributes\":{\"source\":{\"id\":\"20a8c2f7-7cf6-4075-9900-4bde55038232\",\"type\":\"ColumnDataSource\"}},\"id\":\"5a9bbd66-2251-4ed2-949c-3d45f6ffb930\",\"type\":\"CDSView\"},{\"attributes\":{\"plot\":null,\"text\":\"Invasive Species Totals by Longitude\"},\"id\":\"2d26aec4-3cb2-41a3-9cdd-53487cb07254\",\"type\":\"Title\"},{\"attributes\":{\"axis_label\":\"Number of Invasive Species by Type\",\"formatter\":{\"id\":\"c34f42aa-f850-43da-b694-089a84c6becd\",\"type\":\"BasicTickFormatter\"},\"plot\":{\"id\":\"8e1d12e9-f701-4e93-b36b-d80c4f1f8032\",\"subtype\":\"Figure\",\"type\":\"Plot\"},\"ticker\":{\"id\":\"f923ab56-b035-4955-984e-10cced91efee\",\"type\":\"BasicTicker\"}},\"id\":\"c4e94fea-e308-4244-b712-ea5e5ada02d6\",\"type\":\"LinearAxis\"},{\"attributes\":{\"data_source\":{\"id\":\"8b2c3289-a2d2-436b-af0f-e543dabde3ca\",\"type\":\"ColumnDataSource\"},\"glyph\":{\"id\":\"ccd915a3-a999-4073-b929-77f72b5393ec\",\"type\":\"Circle\"},\"hover_glyph\":null,\"muted_glyph\":null,\"nonselection_glyph\":{\"id\":\"8a39a951-bcfc-4349-a077-cd64cf203881\",\"type\":\"Circle\"},\"selection_glyph\":null,\"view\":{\"id\":\"a035ba87-7cf9-457b-99d9-2ebf435b9dd2\",\"type\":\"CDSView\"}},\"id\":\"4508f816-0520-43f9-855c-948f0c74e6de\",\"type\":\"GlyphRenderer\"}],\"root_ids\":[\"8e1d12e9-f701-4e93-b36b-d80c4f1f8032\"]},\"title\":\"Bokeh Application\",\"version\":\"0.12.9\"}};\n",
       "    var render_items = [{\"docid\":\"cd509d55-4c37-4197-9dd4-d96c292597b8\",\"elementid\":\"e08ae6f2-6ed9-4338-b77b-d025ff706269\",\"modelid\":\"8e1d12e9-f701-4e93-b36b-d80c4f1f8032\"}];\n",
       "\n",
       "    root.Bokeh.embed.embed_items(docs_json, render_items);\n",
       "  }\n",
       "\n",
       "  if (root.Bokeh !== undefined) {\n",
       "    embed_document(root);\n",
       "  } else {\n",
       "    var attempts = 0;\n",
       "    var timer = setInterval(function(root) {\n",
       "      if (root.Bokeh !== undefined) {\n",
       "        embed_document(root);\n",
       "        clearInterval(timer);\n",
       "      }\n",
       "      attempts++;\n",
       "      if (attempts > 100) {\n",
       "        console.log(\"Bokeh: ERROR: Unable to embed document because BokehJS library is missing\")\n",
       "        clearInterval(timer);\n",
       "      }\n",
       "    }, 10, root)\n",
       "  }\n",
       "})(window);"
      ],
      "application/vnd.bokehjs_exec.v0+json": ""
     },
     "metadata": {
      "application/vnd.bokehjs_exec.v0+json": {
       "id": "8e1d12e9-f701-4e93-b36b-d80c4f1f8032"
      }
     },
     "output_type": "display_data"
    }
   ],
   "source": [
    "# output to notebook\n",
    "from bokeh.plotting import figure, output_notebook, show\n",
    "from bokeh.models import HoverTool, BoxSelectTool #For enabling tools\n",
    "from bokeh.palettes import Spectral4\n",
    "output_notebook()\n",
    "power = 50\n",
    "\n",
    "p = figure(plot_width=800, plot_height=800)\n",
    "# add square with a size, color, and alpha\n",
    "p.circle(databeetle1['Longitude'], databeetle1['Countcol'], size=12, color=\"navy\", alpha=0.5)\n",
    "p.circle(dataleaf1['Longitude'], dataleaf1['Countcol'], size=12, color=\"red\", alpha=0.5)\n",
    "p.circle(dataanimals1['Longitude'], dataanimals1['Countcol'], size=12, color=\"green\", alpha=0.5)\n",
    "\n",
    "p.title.text = 'Invasive Species Totals by Longitude'\n",
    "\n",
    "p.legend.location = \"top_left\"\n",
    "p.legend.click_policy=\"hide\"\n",
    "\n",
    "# show the results\n",
    "TOOLS = [BoxSelectTool(), HoverTool()]\n",
    "p.xaxis.axis_label = \"Longitude\"\n",
    "p.yaxis.axis_label = \"Number of Invasive Species by Type\"\n",
    "show(p)\n",
    "\n"
   ]
  },
  {
   "cell_type": "code",
   "execution_count": 139,
   "metadata": {
    "collapsed": false,
    "deletable": true,
    "editable": true
   },
   "outputs": [
    {
     "data": {
      "text/plain": [
       "'/home/vagrant/DataFiles/SpeciesType.html'"
      ]
     },
     "execution_count": 139,
     "metadata": {},
     "output_type": "execute_result"
    }
   ],
   "source": [
    "from bokeh.charts import output_file, save\n",
    "\n",
    "output_file('SpeciesType.html')\n",
    "save(p)"
   ]
  },
  {
   "cell_type": "code",
   "execution_count": null,
   "metadata": {
    "collapsed": true,
    "deletable": true,
    "editable": true
   },
   "outputs": [],
   "source": [
    "#final bar plot (only works as html output file but not in notebook)\n",
    "from bokeh.io import show, output_file\n",
    "from bokeh.plotting import figure\n",
    "\n",
    "output_file(\"CountyCountsFinal.html\")\n",
    "\n",
    "counties = ['Bay','Brevard','Broward','Collier','Duval','Escambia','Hillsborough','Lee','MiamiDade','Orange','PalmBeach','Pinellas','Sarasota','Seminole','StJohns','StLucie','Voluisa']\n",
    "\n",
    "p = figure(x_range=counties, plot_height=250, plot_width= 900, title=\"Invasive Species Counts\",\n",
    "           toolbar_location=None, tools=\"\")\n",
    "\n",
    "p.vbar(x=counties, top=[6, 34, 388, 317, 46, 6, 149, 395, 2441, 46, 735, 70, 88, 16, 6, 57, 13], width=0.9)\n",
    "\n",
    "p.xgrid.grid_line_color = None\n",
    "p.y_range.start = 0\n",
    "show(p)"
   ]
  },
  {
   "cell_type": "code",
   "execution_count": null,
   "metadata": {
    "collapsed": true
   },
   "outputs": [],
   "source": [
    "#this version of bar graph works only in notebook but plot width is incorrect\n",
    "from bokeh.plotting import figure, show\n",
    "from bokeh.io import output_notebook, output_file\n",
    "import holoviews as hv\n",
    "hv.extension('bokeh')"
   ]
  },
  {
   "cell_type": "code",
   "execution_count": null,
   "metadata": {
    "collapsed": true
   },
   "outputs": [],
   "source": [
    "output_file(\"mixed.html\")\n",
    "data = {'County': tourtrade['County'], 'Total Invasives': tourtrade['Total']}\n",
    "bars = hv.Bars(data, hv.Dimension('County'), 'Total Invasives')\n",
    "# bars.hv.bars(x=factors, top=x, width=0.9, alpha=0.5)\n",
    "bars"
   ]
  },
  {
   "cell_type": "code",
   "execution_count": null,
   "metadata": {
    "collapsed": true
   },
   "outputs": [],
   "source": [
    "# Pearson R by passengers\n",
    "sns.set_context(\"notebook\", font_scale=1.1)\n",
    "sns.set_style(\"ticks\")\n",
    "\n",
    "# Create scatterplot of dataframe\n",
    "sns.lmplot('PASSENGERS', # Horizontal axis\n",
    "           'Insects', # Vertical axis\n",
    "           data=tourtrade, # Data source\n",
    "           fit_reg=True, # Don't fix a regression line\n",
    "           # Set color\n",
    "           scatter_kws={\"marker\": \"D\", # Set marker style\n",
    "                        \"s\": 100}) # S marker size\n",
    "\n",
    "# Set title\n",
    "plt.title('Tourism and Total Invasives by County (2017)')\n",
    "\n",
    "# Set x-axis label\n",
    "plt.xlabel('Total International Flight Passengers')\n",
    "\n",
    "# Set y-axis label\n",
    "plt.ylabel('Total Invasives')"
   ]
  },
  {
   "cell_type": "code",
   "execution_count": null,
   "metadata": {
    "collapsed": true
   },
   "outputs": [],
   "source": [
    "# Pearson R by freight\n",
    "sns.set_context(\"notebook\", font_scale=1.1)\n",
    "sns.set_style(\"ticks\")\n",
    "\n",
    "# Create scatterplot of dataframe\n",
    "sns.lmplot('FREIGHT', # Horizontal axis\n",
    "           'Total', # Vertical axis\n",
    "           data=tourtrade, # Data source\n",
    "           fit_reg=Tru, # Don't fix a regression line\n",
    "           # Set color\n",
    "           scatter_kws={\"marker\": \"D\", # Set marker style\n",
    "                        \"s\": 100}) # S marker size\n",
    "\n",
    "# Set title\n",
    "plt.title('Trade and Total Invasives by County (2017)')\n",
    "\n",
    "# Set x-axis label\n",
    "plt.xlabel('Total International Freight')\n",
    "\n",
    "# Set y-axis label\n",
    "plt.ylabel('Total Invasives')"
   ]
  }
 ],
 "metadata": {
  "kernelspec": {
   "display_name": "Python 2",
   "language": "python",
   "name": "python2"
  },
  "language_info": {
   "codemirror_mode": {
    "name": "ipython",
    "version": 2
   },
   "file_extension": ".py",
   "mimetype": "text/x-python",
   "name": "python",
   "nbconvert_exporter": "python",
   "pygments_lexer": "ipython2",
   "version": "2.7.13"
  }
 },
 "nbformat": 4,
 "nbformat_minor": 2
}
